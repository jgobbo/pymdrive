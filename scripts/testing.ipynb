{
 "cells": [
  {
   "cell_type": "code",
   "execution_count": 1,
   "metadata": {},
   "outputs": [],
   "source": [
    "from tangods_schneidermdrive.SchneiderMDriveAxis import SchneiderMDriveAxis"
   ]
  },
  {
   "cell_type": "code",
   "execution_count": 2,
   "metadata": {},
   "outputs": [
    {
     "name": "stderr",
     "output_type": "stream",
     "text": [
      "usage: SchneiderMDriveAxis instance_name [-v[trace level]] [-host] [-port] [-file=<file_name> | -nodb [-dlist]]\n",
      "SchneiderMDriveAxis: error: the following arguments are required: instance_name\n"
     ]
    },
    {
     "ename": "SystemExit",
     "evalue": "2",
     "output_type": "error",
     "traceback": [
      "An exception has occurred, use %tb to see the full traceback.\n",
      "\u001b[1;31mSystemExit\u001b[0m\u001b[1;31m:\u001b[0m 2\n"
     ]
    },
    {
     "name": "stderr",
     "output_type": "stream",
     "text": [
      "c:\\Users\\SPEEM\\miniconda3\\envs\\mdrive\\Lib\\site-packages\\IPython\\core\\interactiveshell.py:3585: UserWarning: To exit: use 'exit', 'quit', or Ctrl-D.\n",
      "  warn(\"To exit: use 'exit', 'quit', or Ctrl-D.\", stacklevel=1)\n"
     ]
    }
   ],
   "source": [
    "SchneiderMDriveAxis.run_server()"
   ]
  },
  {
   "cell_type": "code",
   "execution_count": 3,
   "metadata": {},
   "outputs": [
    {
     "ename": "ConnectionFailed",
     "evalue": "DevFailed[\nDevError[\n    desc = TANGO_HOST env. variable not set, set it and retry (e.g. TANGO_HOST=<host>:<port>)\n  origin = __cdecl Tango::Database::Database(class CORBA::ORB_var) at (D:\\bld\\cpptango_1727425203910\\work\\src\\client\\dbapi_base.cpp:78)\n  reason = API_TangoHostNotSet\nseverity = ERR]\n]",
     "output_type": "error",
     "traceback": [
      "\u001b[1;31m---------------------------------------------------------------------------\u001b[0m",
      "\u001b[1;31mConnectionFailed\u001b[0m                          Traceback (most recent call last)",
      "Cell \u001b[1;32mIn[3], line 8\u001b[0m\n\u001b[0;32m      5\u001b[0m dev_info\u001b[38;5;241m.\u001b[39m_class \u001b[38;5;241m=\u001b[39m \u001b[38;5;124m\"\u001b[39m\u001b[38;5;124mSchneiderMDriveAxis\u001b[39m\u001b[38;5;124m\"\u001b[39m\n\u001b[0;32m      6\u001b[0m dev_info\u001b[38;5;241m.\u001b[39mname \u001b[38;5;241m=\u001b[39m \u001b[38;5;124m\"\u001b[39m\u001b[38;5;124mtest/SchneiderMDriveAxis/X\u001b[39m\u001b[38;5;124m\"\u001b[39m\n\u001b[1;32m----> 8\u001b[0m database \u001b[38;5;241m=\u001b[39m Database()\n\u001b[0;32m      9\u001b[0m database\u001b[38;5;241m.\u001b[39madd_device(dev_info)\n",
      "File \u001b[1;32mc:\\Users\\SPEEM\\miniconda3\\envs\\mdrive\\Lib\\site-packages\\tango\\db.py:92\u001b[0m, in \u001b[0;36m__Database____init__\u001b[1;34m(self, *args, **kwargs)\u001b[0m\n\u001b[0;32m     91\u001b[0m \u001b[38;5;28;01mdef\u001b[39;00m \u001b[38;5;21m__Database____init__\u001b[39m(\u001b[38;5;28mself\u001b[39m, \u001b[38;5;241m*\u001b[39margs, \u001b[38;5;241m*\u001b[39m\u001b[38;5;241m*\u001b[39mkwargs):\n\u001b[1;32m---> 92\u001b[0m     \u001b[38;5;28;01mreturn\u001b[39;00m Database\u001b[38;5;241m.\u001b[39m__init_orig__(\u001b[38;5;28mself\u001b[39m, \u001b[38;5;241m*\u001b[39margs, \u001b[38;5;241m*\u001b[39m\u001b[38;5;241m*\u001b[39mkwargs)\n",
      "\u001b[1;31mConnectionFailed\u001b[0m: DevFailed[\nDevError[\n    desc = TANGO_HOST env. variable not set, set it and retry (e.g. TANGO_HOST=<host>:<port>)\n  origin = __cdecl Tango::Database::Database(class CORBA::ORB_var) at (D:\\bld\\cpptango_1727425203910\\work\\src\\client\\dbapi_base.cpp:78)\n  reason = API_TangoHostNotSet\nseverity = ERR]\n]"
     ]
    }
   ],
   "source": [
    "from tango import DbDevInfo, Database\n",
    "\n",
    "dev_info = DbDevInfo()\n",
    "dev_info.server = \"SchneiderMDriveAxis/test\"\n",
    "dev_info._class = \"SchneiderMDriveAxis\"\n",
    "dev_info.name = \"test/SchneiderMDriveAxis/X\"\n",
    "\n",
    "database = Database()\n",
    "database.add_device(dev_info)"
   ]
  },
  {
   "cell_type": "code",
   "execution_count": 5,
   "metadata": {},
   "outputs": [
    {
     "name": "stdout",
     "output_type": "stream",
     "text": [
      "None\n"
     ]
    }
   ],
   "source": [
    "import tango\n",
    "\n",
    "print(tango.ApiUtil.get_env_var(\"TANGO_HOST\"))"
   ]
  },
  {
   "cell_type": "code",
   "execution_count": 641,
   "metadata": {},
   "outputs": [],
   "source": [
    "import serial, asyncio\n",
    "\n",
    "if not port.is_open:\n",
    "    port = serial.Serial(port=\"COM3\", baudrate=9600, bytesize=8, stopbits=1, timeout=3)"
   ]
  },
  {
   "cell_type": "code",
   "execution_count": 998,
   "metadata": {},
   "outputs": [],
   "source": [
    "async def write(command: str):\n",
    "    _write(command)\n",
    "    await check_echo(command)\n",
    "    port.read_all()\n",
    "\n",
    "\n",
    "async def write_read(command: str):\n",
    "    _write(command)\n",
    "    await check_echo(command)\n",
    "    await asyncio.sleep(0.1)\n",
    "    _ = port.readline()\n",
    "    response = port.readline().decode(\"ascii\").strip(\"\\n\").strip(\"\\r\")\n",
    "    port.read_all()\n",
    "    return response\n",
    "\n",
    "\n",
    "async def read_all_parameters():\n",
    "    command = \"PR AL\"\n",
    "\n",
    "    _write(command)\n",
    "    await check_echo(command)\n",
    "    _ = port.readline()\n",
    "\n",
    "    all_responses = []\n",
    "    while (line := port.readline().decode(\"ascii\")) != \"\\r\\n\":\n",
    "        stripped_line = line.strip(\"\\n\").strip(\"\\r\")\n",
    "        if stripped_line != \"\":\n",
    "            all_responses.append(stripped_line)\n",
    "        await asyncio.sleep(0.005)\n",
    "    port.read_all()\n",
    "    return all_responses\n",
    "\n",
    "\n",
    "async def check_echo(command: str):\n",
    "    await asyncio.sleep(0.05)\n",
    "    command_echo = port.readline().decode(\"ascii\")\n",
    "    command_echo = command_echo.strip(\"\\n\").strip(\"\\r\")\n",
    "    if command_echo != command:\n",
    "        print(f\"Command echo, {command_echo}, does not match command, {command}.\")\n",
    "\n",
    "\n",
    "def _write(command: str):\n",
    "    port.write(f\"{command}\\r\\n\".encode(\"ascii\"))\n",
    "    port.flush()"
   ]
  },
  {
   "cell_type": "code",
   "execution_count": 1014,
   "metadata": {},
   "outputs": [],
   "source": [
    "await write(\"MR 100000\")"
   ]
  },
  {
   "cell_type": "code",
   "execution_count": 1016,
   "metadata": {},
   "outputs": [
    {
     "data": {
      "text/plain": [
       "'112089304'"
      ]
     },
     "execution_count": 1016,
     "metadata": {},
     "output_type": "execute_result"
    }
   ],
   "source": [
    "await write_read(\"PR P\")"
   ]
  },
  {
   "cell_type": "code",
   "execution_count": 1017,
   "metadata": {},
   "outputs": [
    {
     "data": {
      "text/plain": [
       "['A = 1000000',\n",
       " 'BD = 96',\n",
       " 'BP = 0, 0',\n",
       " 'BY = 0',\n",
       " 'C1 = 112089304',\n",
       " 'CE = 1',\n",
       " 'CK = 0',\n",
       " 'D1 = 0',\n",
       " 'D2 = 0',\n",
       " 'D3 = 0',\n",
       " 'D4 = 0',\n",
       " 'D5 = 0',\n",
       " 'D = 1000000',\n",
       " 'DE = 1',\n",
       " 'DG = 1',\n",
       " 'DN = \"X\"',\n",
       " 'EF = 0',\n",
       " 'EM = 0',\n",
       " 'ER = 37',\n",
       " 'ES = 3',\n",
       " 'FM = 2',\n",
       " 'HC = 5',\n",
       " 'HT = 500',\n",
       " 'I1 = 0',\n",
       " 'I2 = 0',\n",
       " 'I3 = 0',\n",
       " 'I4 = 0',\n",
       " 'I5 = 990',\n",
       " 'IF = 0',\n",
       " 'IL = 12',\n",
       " 'IN = 12',\n",
       " 'JE = 0',\n",
       " 'LK = 0',\n",
       " 'LM = 1',\n",
       " 'MD = MR',\n",
       " 'MP = 0',\n",
       " 'MS = 256',\n",
       " 'MT = 0',\n",
       " 'MV = 0',\n",
       " 'NE = 1',\n",
       " 'P = 112089304',\n",
       " 'PC = 0',\n",
       " 'PY = 0',\n",
       " 'QD = 0',\n",
       " 'R1 = 0',\n",
       " 'R2 = 0',\n",
       " 'R3 = 0',\n",
       " 'R4 = 0',\n",
       " 'RC = 50',\n",
       " 'S1 = 3, 1, 0',\n",
       " 'S2 = 2, 1, 0',\n",
       " 'S3 = 0, 0, 0',\n",
       " 'S4 = 0, 0, 0',\n",
       " 'S5 = 9, 0',\n",
       " 'TE = 0',\n",
       " 'TI = 0, 0',\n",
       " 'TP = 0, 0',\n",
       " 'TT = 0, 0',\n",
       " 'V = 0',\n",
       " 'VC = 0',\n",
       " 'VI = 1000',\n",
       " 'VM = 768000',\n",
       " 'VR = 3.014',\n",
       " 'SP = G 50000']"
      ]
     },
     "execution_count": 1017,
     "metadata": {},
     "output_type": "execute_result"
    }
   ],
   "source": [
    "await read_all_parameters()"
   ]
  },
  {
   "cell_type": "code",
   "execution_count": 1018,
   "metadata": {},
   "outputs": [],
   "source": [
    "port.close()"
   ]
  }
 ],
 "metadata": {
  "kernelspec": {
   "display_name": "mdrive",
   "language": "python",
   "name": "python3"
  },
  "language_info": {
   "codemirror_mode": {
    "name": "ipython",
    "version": 3
   },
   "file_extension": ".py",
   "mimetype": "text/x-python",
   "name": "python",
   "nbconvert_exporter": "python",
   "pygments_lexer": "ipython3",
   "version": "3.13.2"
  }
 },
 "nbformat": 4,
 "nbformat_minor": 2
}
